{
 "cells": [
  {
   "cell_type": "code",
   "execution_count": null,
   "id": "51571aed",
   "metadata": {},
   "outputs": [],
   "source": [
    "# download presidio\n",
    "!pip install presidio_analyzer presidio_anonymizer\n",
    "!pip install openai pandas\n",
    "!python -m spacy download en_core_web_lg"
   ]
  },
  {
   "cell_type": "code",
   "execution_count": 1,
   "id": "633afc58",
   "metadata": {},
   "outputs": [],
   "source": [
    "import pprint\n",
    "from dotenv import load_dotenv\n",
    "import os\n",
    "import pandas as pd\n",
    "from openai import OpenAI\n",
    "\n",
    "load_dotenv()\n",
    "\n",
    "client = OpenAI(\n",
    "    api_key=os.environ.get(\"OPENAI_API_KEY\"),\n",
    ")\n",
    "#Or put explicitly in notebook. Find out more here: https://help.openai.com/en/articles/4936850-where-do-i-find-my-secret-api-key"
   ]
  },
  {
   "cell_type": "code",
   "execution_count": 2,
   "id": "476a892b",
   "metadata": {},
   "outputs": [],
   "source": [
    "def call_completion_model(prompt:str, model:str=\"gpt-4o-mini\", max_tokens:int=512) ->str:\n",
    "    \"\"\"Creates a request for the OpenAI Completion service and returns the response.\n",
    "    \n",
    "    :param prompt: The prompt for the completion model\n",
    "    :param model: OpenAI model name\n",
    "    :param max_tokens: Model's max tokens parameter\n",
    "    \"\"\"\n",
    "\n",
    "    completion = client.chat.completions.create(\n",
    "    messages=[\n",
    "        {\n",
    "            \"role\": \"user\",\n",
    "            \"content\": prompt,\n",
    "        }\n",
    "    ],\n",
    "    model=model,\n",
    ")\n",
    "\n",
    "    return completion.choices[0].message.content"
   ]
  },
  {
   "cell_type": "code",
   "execution_count": 3,
   "id": "5bd21c6d",
   "metadata": {},
   "outputs": [
    {
     "name": "stderr",
     "output_type": "stream",
     "text": [
      "d:\\Ivatama\\Protocols\\Safety\\env\\Lib\\site-packages\\tqdm\\auto.py:21: TqdmWarning: IProgress not found. Please update jupyter and ipywidgets. See https://ipywidgets.readthedocs.io/en/stable/user_install.html\n",
      "  from .autonotebook import tqdm as notebook_tqdm\n",
      "Exception reading Public Suffix List url https://publicsuffix.org/list/public_suffix_list.dat\n",
      "Traceback (most recent call last):\n",
      "  File \"d:\\Ivatama\\Protocols\\Safety\\env\\Lib\\site-packages\\tldextract\\cache.py\", line 198, in run_and_cache\n",
      "    result = cast(T, self.get(namespace=namespace, key=key_args))\n",
      "                     ^^^^^^^^^^^^^^^^^^^^^^^^^^^^^^^^^^^^^^^^^^^\n",
      "  File \"d:\\Ivatama\\Protocols\\Safety\\env\\Lib\\site-packages\\tldextract\\cache.py\", line 101, in get\n",
      "    raise KeyError(\"namespace: \" + namespace + \" key: \" + repr(key))\n",
      "KeyError: \"namespace: publicsuffix.org-tlds key: {'urls': ('https://publicsuffix.org/list/public_suffix_list.dat', 'https://raw.githubusercontent.com/publicsuffix/list/master/public_suffix_list.dat'), 'fallback_to_snapshot': True}\"\n",
      "\n",
      "During handling of the above exception, another exception occurred:\n",
      "\n",
      "Traceback (most recent call last):\n",
      "  File \"d:\\Ivatama\\Protocols\\Safety\\env\\Lib\\site-packages\\tldextract\\cache.py\", line 198, in run_and_cache\n",
      "    result = cast(T, self.get(namespace=namespace, key=key_args))\n",
      "                     ^^^^^^^^^^^^^^^^^^^^^^^^^^^^^^^^^^^^^^^^^^^\n",
      "  File \"d:\\Ivatama\\Protocols\\Safety\\env\\Lib\\site-packages\\tldextract\\cache.py\", line 101, in get\n",
      "    raise KeyError(\"namespace: \" + namespace + \" key: \" + repr(key))\n",
      "KeyError: \"namespace: urls key: {'url': 'https://publicsuffix.org/list/public_suffix_list.dat'}\"\n",
      "\n",
      "During handling of the above exception, another exception occurred:\n",
      "\n",
      "Traceback (most recent call last):\n",
      "  File \"d:\\Ivatama\\Protocols\\Safety\\env\\Lib\\site-packages\\urllib3\\connection.py\", line 198, in _new_conn\n",
      "    sock = connection.create_connection(\n",
      "           ^^^^^^^^^^^^^^^^^^^^^^^^^^^^^\n",
      "  File \"d:\\Ivatama\\Protocols\\Safety\\env\\Lib\\site-packages\\urllib3\\util\\connection.py\", line 60, in create_connection\n",
      "    for res in socket.getaddrinfo(host, port, family, socket.SOCK_STREAM):\n",
      "               ^^^^^^^^^^^^^^^^^^^^^^^^^^^^^^^^^^^^^^^^^^^^^^^^^^^^^^^^^^\n",
      "  File \"C:\\Users\\valer\\AppData\\Local\\Programs\\Python\\Python311\\Lib\\socket.py\", line 961, in getaddrinfo\n",
      "    for res in _socket.getaddrinfo(host, port, family, type, proto, flags):\n",
      "               ^^^^^^^^^^^^^^^^^^^^^^^^^^^^^^^^^^^^^^^^^^^^^^^^^^^^^^^^^^^\n",
      "socket.gaierror: [Errno 11001] getaddrinfo failed\n",
      "\n",
      "The above exception was the direct cause of the following exception:\n",
      "\n",
      "Traceback (most recent call last):\n",
      "  File \"d:\\Ivatama\\Protocols\\Safety\\env\\Lib\\site-packages\\urllib3\\connectionpool.py\", line 787, in urlopen\n",
      "    response = self._make_request(\n",
      "               ^^^^^^^^^^^^^^^^^^^\n",
      "  File \"d:\\Ivatama\\Protocols\\Safety\\env\\Lib\\site-packages\\urllib3\\connectionpool.py\", line 488, in _make_request\n",
      "    raise new_e\n",
      "  File \"d:\\Ivatama\\Protocols\\Safety\\env\\Lib\\site-packages\\urllib3\\connectionpool.py\", line 464, in _make_request\n",
      "    self._validate_conn(conn)\n",
      "  File \"d:\\Ivatama\\Protocols\\Safety\\env\\Lib\\site-packages\\urllib3\\connectionpool.py\", line 1093, in _validate_conn\n",
      "    conn.connect()\n",
      "  File \"d:\\Ivatama\\Protocols\\Safety\\env\\Lib\\site-packages\\urllib3\\connection.py\", line 753, in connect\n",
      "    self.sock = sock = self._new_conn()\n",
      "                       ^^^^^^^^^^^^^^^^\n",
      "  File \"d:\\Ivatama\\Protocols\\Safety\\env\\Lib\\site-packages\\urllib3\\connection.py\", line 205, in _new_conn\n",
      "    raise NameResolutionError(self.host, self, e) from e\n",
      "urllib3.exceptions.NameResolutionError: <urllib3.connection.HTTPSConnection object at 0x000001533CD688D0>: Failed to resolve 'publicsuffix.org' ([Errno 11001] getaddrinfo failed)\n",
      "\n",
      "The above exception was the direct cause of the following exception:\n",
      "\n",
      "Traceback (most recent call last):\n",
      "  File \"d:\\Ivatama\\Protocols\\Safety\\env\\Lib\\site-packages\\requests\\adapters.py\", line 667, in send\n",
      "    resp = conn.urlopen(\n",
      "           ^^^^^^^^^^^^^\n",
      "  File \"d:\\Ivatama\\Protocols\\Safety\\env\\Lib\\site-packages\\urllib3\\connectionpool.py\", line 841, in urlopen\n",
      "    retries = retries.increment(\n",
      "              ^^^^^^^^^^^^^^^^^^\n",
      "  File \"d:\\Ivatama\\Protocols\\Safety\\env\\Lib\\site-packages\\urllib3\\util\\retry.py\", line 519, in increment\n",
      "    raise MaxRetryError(_pool, url, reason) from reason  # type: ignore[arg-type]\n",
      "    ^^^^^^^^^^^^^^^^^^^^^^^^^^^^^^^^^^^^^^^^^^^^^^^^^^^\n",
      "urllib3.exceptions.MaxRetryError: HTTPSConnectionPool(host='publicsuffix.org', port=443): Max retries exceeded with url: /list/public_suffix_list.dat (Caused by NameResolutionError(\"<urllib3.connection.HTTPSConnection object at 0x000001533CD688D0>: Failed to resolve 'publicsuffix.org' ([Errno 11001] getaddrinfo failed)\"))\n",
      "\n",
      "During handling of the above exception, another exception occurred:\n",
      "\n",
      "Traceback (most recent call last):\n",
      "  File \"d:\\Ivatama\\Protocols\\Safety\\env\\Lib\\site-packages\\tldextract\\suffix_list.py\", line 46, in find_first_response\n",
      "    return cache.cached_fetch_url(\n",
      "           ^^^^^^^^^^^^^^^^^^^^^^^\n",
      "  File \"d:\\Ivatama\\Protocols\\Safety\\env\\Lib\\site-packages\\tldextract\\cache.py\", line 209, in cached_fetch_url\n",
      "    return self.run_and_cache(\n",
      "           ^^^^^^^^^^^^^^^^^^^\n",
      "  File \"d:\\Ivatama\\Protocols\\Safety\\env\\Lib\\site-packages\\tldextract\\cache.py\", line 200, in run_and_cache\n",
      "    result = func(**kwargs)\n",
      "             ^^^^^^^^^^^^^^\n",
      "  File \"d:\\Ivatama\\Protocols\\Safety\\env\\Lib\\site-packages\\tldextract\\cache.py\", line 218, in _fetch_url\n",
      "    response = session.get(url, timeout=timeout)\n",
      "               ^^^^^^^^^^^^^^^^^^^^^^^^^^^^^^^^^\n",
      "  File \"d:\\Ivatama\\Protocols\\Safety\\env\\Lib\\site-packages\\requests\\sessions.py\", line 602, in get\n",
      "    return self.request(\"GET\", url, **kwargs)\n",
      "           ^^^^^^^^^^^^^^^^^^^^^^^^^^^^^^^^^^\n",
      "  File \"d:\\Ivatama\\Protocols\\Safety\\env\\Lib\\site-packages\\requests\\sessions.py\", line 589, in request\n",
      "    resp = self.send(prep, **send_kwargs)\n",
      "           ^^^^^^^^^^^^^^^^^^^^^^^^^^^^^^\n",
      "  File \"d:\\Ivatama\\Protocols\\Safety\\env\\Lib\\site-packages\\requests\\sessions.py\", line 703, in send\n",
      "    r = adapter.send(request, **kwargs)\n",
      "        ^^^^^^^^^^^^^^^^^^^^^^^^^^^^^^^\n",
      "  File \"d:\\Ivatama\\Protocols\\Safety\\env\\Lib\\site-packages\\requests\\adapters.py\", line 700, in send\n",
      "    raise ConnectionError(e, request=request)\n",
      "requests.exceptions.ConnectionError: HTTPSConnectionPool(host='publicsuffix.org', port=443): Max retries exceeded with url: /list/public_suffix_list.dat (Caused by NameResolutionError(\"<urllib3.connection.HTTPSConnection object at 0x000001533CD688D0>: Failed to resolve 'publicsuffix.org' ([Errno 11001] getaddrinfo failed)\"))\n"
     ]
    },
    {
     "name": "stdout",
     "output_type": "stream",
     "text": [
      "\n",
      "Hello, my name is <PERSON> and I live in <LOCATION>.\n",
      "My credit card number is <CREDIT_CARD> and my crypto wallet id is <CRYPTO>.\n",
      "\n",
      "On <DATE_TIME> I visited <URL> and sent an email to <EMAIL_ADDRESS>,  from <DATE_TIME>.\n",
      "\n",
      "My passport: <US_PASSPORT> and my phone number: <PHONE_NUMBER>.\n",
      "\n",
      "This is a valid International Bank Account Number: <IBAN_CODE> . Can you please check the status on bank account <US_BANK_NUMBER>?\n",
      "\n",
      "<PERSON>'s social security number is <US_SSN>.  Her driver license? it is <US_DRIVER_LICENSE>.\n",
      "\n"
     ]
    }
   ],
   "source": [
    "from presidio_analyzer import AnalyzerEngine\n",
    "from presidio_anonymizer import AnonymizerEngine\n",
    "\n",
    "analyzer = AnalyzerEngine()\n",
    "anonymizer = AnonymizerEngine()\n",
    "\n",
    "sample = \"\"\"\n",
    "Hello, my name is David Johnson and I live in Maine.\n",
    "My credit card number is 4095-2609-9393-4932 and my crypto wallet id is 16Yeky6GMjeNkAiNcBY7ZhrLoMSgg1BoyZ.\n",
    "\n",
    "On September 18 I visited microsoft.com and sent an email to test@presidio.site,  from the IP 192.168.0.1.\n",
    "\n",
    "My passport: 191280342 and my phone number: (212) 555-1234.\n",
    "\n",
    "This is a valid International Bank Account Number: IL150120690000003111111 . Can you please check the status on bank account 954567876544?\n",
    "\n",
    "Kate's social security number is 078-05-1126.  Her driver license? it is 1234567A.\n",
    "\"\"\"\n",
    "\n",
    "results = analyzer.analyze(sample, language=\"en\")\n",
    "anonymized = anonymizer.anonymize(text=sample, analyzer_results=results)\n",
    "anonymized_text = anonymized.text\n",
    "print(anonymized_text)\n"
   ]
  },
  {
   "cell_type": "code",
   "execution_count": 4,
   "id": "3bc43e85",
   "metadata": {},
   "outputs": [],
   "source": [
    "def create_prompt(anonymized_text: str) -> str:\n",
    "    \"\"\"\n",
    "    Create the prompt with instructions to GPT-3.\n",
    "    \n",
    "    :param anonymized_text: Text with placeholders instead of PII values, e.g. My name is .\n",
    "    \"\"\"\n",
    "\n",
    "    prompt = f\"\"\"\n",
    "    Your role is to create synthetic text based on de-identified text with placeholders instead of Personally Identifiable Information (PII).\n",
    "    Replace the placeholders (e.g. ,, {{DATE}}, {{ip_address}}) with fake values.\n",
    "    Instructions:\n",
    "    a. Use completely random numbers, so every digit is drawn between 0 and 9.\n",
    "    b. Use realistic names that come from diverse genders, ethnicities and countries.\n",
    "    c. If there are no placeholders, return the text as is.\n",
    "    d. Keep the formatting as close to the original as possible.\n",
    "    e. If PII exists in the input, replace it with fake values in the output.\n",
    "    f. Remove whitespace before and after the generated text\n",
    "    \n",
    "    input: [[TEXT STARTS]] How do I change the limit on my credit card {{credit_card_number}}?[[TEXT ENDS]]\n",
    "    output: How do I change the limit on my credit card 2539 3519 2345 1555?\n",
    "    input: [[TEXT STARTS]] was the chief science officer at .[[TEXT ENDS]]\n",
    "    output: Katherine Buckjov was the chief science officer at NASA.\n",
    "    input: [[TEXT STARTS]]Cameroon lives in .[[TEXT ENDS]]\n",
    "    output: Vladimir lives in Moscow.\n",
    "    \n",
    "    input: [[TEXT STARTS]]{anonymized_text}[[TEXT ENDS]]\n",
    "    output:\"\"\"\n",
    "    return prompt"
   ]
  },
  {
   "cell_type": "code",
   "execution_count": 5,
   "id": "eec062ca",
   "metadata": {},
   "outputs": [
    {
     "name": "stdout",
     "output_type": "stream",
     "text": [
      "This is the prompt with de-identified values:\n",
      "\n",
      "    Your role is to create synthetic text based on de-identified text with placeholders instead of Personally Identifiable Information (PII).\n",
      "    Replace the placeholders (e.g. ,, {DATE}, {ip_address}) with fake values.\n",
      "    Instructions:\n",
      "    a. Use completely random numbers, so every digit is drawn between 0 and 9.\n",
      "    b. Use realistic names that come from diverse genders, ethnicities and countries.\n",
      "    c. If there are no placeholders, return the text as is.\n",
      "    d. Keep the formatting as close to the original as possible.\n",
      "    e. If PII exists in the input, replace it with fake values in the output.\n",
      "    f. Remove whitespace before and after the generated text\n",
      "\n",
      "    input: [[TEXT STARTS]] How do I change the limit on my credit card {credit_card_number}?[[TEXT ENDS]]\n",
      "    output: How do I change the limit on my credit card 2539 3519 2345 1555?\n",
      "    input: [[TEXT STARTS]] was the chief science officer at .[[TEXT ENDS]]\n",
      "    output: Katherine Buckjov was the chief science officer at NASA.\n",
      "    input: [[TEXT STARTS]]Cameroon lives in .[[TEXT ENDS]]\n",
      "    output: Vladimir lives in Moscow.\n",
      "\n",
      "    input: [[TEXT STARTS]]\n",
      "Hello, my name is <PERSON> and I live in <LOCATION>.\n",
      "My credit card number is <CREDIT_CARD> and my crypto wallet id is <CRYPTO>.\n",
      "\n",
      "On <DATE_TIME> I visited <URL> and sent an email to <EMAIL_ADDRESS>,  from <DATE_TIME>.\n",
      "\n",
      "My passport: <US_PASSPORT> and my phone number: <PHONE_NUMBER>.\n",
      "\n",
      "This is a valid International Bank Account Number: <IBAN_CODE> . Can you please check the status on bank account <US_BANK_NUMBER>?\n",
      "\n",
      "<PERSON>'s social security number is <US_SSN>.  Her driver license? it is <US_DRIVER_LICENSE>.\n",
      "[[TEXT ENDS]]\n",
      "    output:\n"
     ]
    }
   ],
   "source": [
    "print(\"This is the prompt with de-identified values:\")\n",
    "print(create_prompt(anonymized_text))"
   ]
  },
  {
   "cell_type": "code",
   "execution_count": 6,
   "id": "3d68248b",
   "metadata": {},
   "outputs": [],
   "source": [
    "gpt_res = call_completion_model(create_prompt(anonymized_text))"
   ]
  },
  {
   "cell_type": "code",
   "execution_count": 7,
   "id": "a52e76bb",
   "metadata": {},
   "outputs": [
    {
     "name": "stdout",
     "output_type": "stream",
     "text": [
      "Hello, my name is Amira Patel and I live in Toronto.  \n",
      "My credit card number is 4782 4915 6382 9051 and my crypto wallet id is 6c0e1d2f4bfa.\n",
      "\n",
      "On 12/04/2023 14:30 I visited https://example.com and sent an email to jasmine.smith@example.com, from 12/04/2023 14:30.\n",
      "\n",
      "My passport: P12345678 and my phone number: 647-839-2340.\n",
      "\n",
      "This is a valid International Bank Account Number: GB29 NWBK 6016 1331 9268 19. Can you please check the status on bank account 123456789?\n",
      "\n",
      "Amira Patel's social security number is 123-45-6789. Her driver license? it is D123-456-789-012.\n"
     ]
    }
   ],
   "source": [
    "print(gpt_res)"
   ]
  },
  {
   "cell_type": "code",
   "execution_count": 8,
   "id": "7bd29142",
   "metadata": {},
   "outputs": [],
   "source": [
    "import urllib\n",
    "\n",
    "templates = []\n",
    "\n",
    "url = \"https://raw.githubusercontent.com/microsoft/presidio-research/master/presidio_evaluator/data_generator/raw_data/templates.txt\"\n",
    "for line in urllib.request.urlopen(url):\n",
    "    templates.append(line.decode('utf-8')) "
   ]
  },
  {
   "cell_type": "code",
   "execution_count": 9,
   "id": "eb552301",
   "metadata": {},
   "outputs": [
    {
     "name": "stdout",
     "output_type": "stream",
     "text": [
      "Example templates:\n"
     ]
    },
    {
     "data": {
      "text/plain": [
       "['I want to increase limit on my card # {{credit_card_number}} for certain duration of time. is it possible?\\n',\n",
       " 'My credit card {{credit_card_number}} has been lost, Can I request you to block it.\\n',\n",
       " 'Need to change billing date of my card {{credit_card_number}}\\n',\n",
       " 'I want to update my primary and secondary address to the same: {{address}}\\n',\n",
       " \"In case of my child's account, we need to add {{person}} as guardian\\n\"]"
      ]
     },
     "execution_count": 9,
     "metadata": {},
     "output_type": "execute_result"
    }
   ],
   "source": [
    "print(\"Example templates:\")\n",
    "templates[:5]"
   ]
  },
  {
   "cell_type": "code",
   "execution_count": 10,
   "id": "d1b39423",
   "metadata": {},
   "outputs": [
    {
     "name": "stdout",
     "output_type": "stream",
     "text": [
      "{ 'original': 'I want to increase limit on my card # {{credit_card_number}} for certain duration of time. is '\n",
      "              'it possible?\\n',\n",
      "  'synthetic': 'I want to increase limit on my card # 4786 2234 5689 9103 for certain duration of time. is '\n",
      "               'it possible?'}\n",
      "--------------\n",
      "{ 'original': 'My credit card {{credit_card_number}} has been lost, Can I request you to block it.\\n',\n",
      "  'synthetic': 'My credit card 4875 2361 7743 8950 has been lost, Can I request you to block it.'}\n",
      "--------------\n",
      "{ 'original': 'Need to change billing date of my card {{credit_card_number}}\\n',\n",
      "  'synthetic': 'Need to change billing date of my card 4263 8701 3452 1987?'}\n",
      "--------------\n",
      "{ 'original': 'I want to update my primary and secondary address to the same: {{address}}\\n',\n",
      "  'synthetic': 'I want to update my primary and secondary address to the same: 7425 Elm Street, Springfield, '\n",
      "               'IL 62704.'}\n",
      "--------------\n",
      "{ 'original': \"In case of my child's account, we need to add {{person}} as guardian\\n\",\n",
      "  'synthetic': \"In case of my child's account, we need to add Aisha Patel as guardian.\"}\n",
      "--------------\n"
     ]
    }
   ],
   "source": [
    "templates_to_use = templates[:5]\n",
    "\n",
    "\n",
    "import time\n",
    "pp = pprint.PrettyPrinter(indent=2, width=110)\n",
    "sentences = []\n",
    "for template in templates_to_use:\n",
    "    synth_sentence = call_completion_model(create_prompt(template))\n",
    "    sentence_dict = {\"original\": template, \"synthetic\":synth_sentence.strip()}\n",
    "    sentences.append(sentence_dict)\n",
    "    pp.pprint(sentence_dict)\n",
    "    time.sleep(3) # wait to not get blocked by service (only applicable for the free tier)\n",
    "    print(\"--------------\")\n"
   ]
  }
 ],
 "metadata": {
  "kernelspec": {
   "display_name": "env",
   "language": "python",
   "name": "python3"
  },
  "language_info": {
   "codemirror_mode": {
    "name": "ipython",
    "version": 3
   },
   "file_extension": ".py",
   "mimetype": "text/x-python",
   "name": "python",
   "nbconvert_exporter": "python",
   "pygments_lexer": "ipython3",
   "version": "3.11.0"
  }
 },
 "nbformat": 4,
 "nbformat_minor": 5
}
