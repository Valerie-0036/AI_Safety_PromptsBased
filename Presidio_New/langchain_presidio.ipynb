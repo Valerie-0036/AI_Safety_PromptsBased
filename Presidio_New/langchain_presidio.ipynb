{
 "cells": [
  {
   "cell_type": "code",
   "execution_count": null,
   "id": "0b65cac9",
   "metadata": {},
   "outputs": [],
   "source": [
    "from langchain_experimental.data_anonymizer import PresidioReversibleAnonymizer\n",
    "anonymizer = PresidioReversibleAnonymizer(\n",
    "  analyzed_fields=[\"PERSON\",\"PHONE_NUMBER\",\"EMAIL_ADDRESS\",\"CREDIT_CARD\"],\n",
    "  faker_seed=42\n",
    ")\n",
    "anonymizer.anonymize(\n",
    "  \"My name is slim shady, call me at 313-666-7559 or email me at real.slim.shady@gmail.com\"\n",
    "  \"My credit card is 4916 0382 3232 0732\"\n",
    ")"
   ]
  },
  {
   "cell_type": "code",
   "execution_count": null,
   "id": "bdb1d94a",
   "metadata": {},
   "outputs": [],
   "source": [
    "import transformers\n",
    "from huggingface_hub import snapshot_download\n",
    "from transformers import AutoTokenizer, AutoModelForTokenClassification\n",
    "\n",
    "transformers_model = \"StanfordAIMI/stanford-deidentifier-base\"\n",
    "\n",
    "snapshot_download(repo_id=transformers_model)\n",
    "\n",
    "# Instantiate to make sure it's downloaded during installation and not runtime\n",
    "AutoTokenizer.from_pretrained(transformers_model)\n",
    "AutoModelForTokenClassification.from_pretrained(transformers_model)"
   ]
  },
  {
   "cell_type": "code",
   "execution_count": 7,
   "id": "3fc50706",
   "metadata": {},
   "outputs": [
    {
     "name": "stderr",
     "output_type": "stream",
     "text": [
      "WARNING:presidio-analyzer:low_score_entity_names is missing from configuration, using default\n",
      "Device set to use cpu\n",
      "INFO:presidio-analyzer:registry not provided, creating default.\n",
      "INFO:presidio-analyzer:Loaded recognizer: CreditCardRecognizer\n",
      "INFO:presidio-analyzer:Loaded recognizer: CreditCardRecognizer\n",
      "INFO:presidio-analyzer:Loaded recognizer: CreditCardRecognizer\n",
      "INFO:presidio-analyzer:Loaded recognizer: CreditCardRecognizer\n",
      "INFO:presidio-analyzer:Loaded recognizer: UsBankRecognizer\n",
      "INFO:presidio-analyzer:Loaded recognizer: UsLicenseRecognizer\n",
      "INFO:presidio-analyzer:Loaded recognizer: UsItinRecognizer\n",
      "INFO:presidio-analyzer:Loaded recognizer: UsPassportRecognizer\n",
      "INFO:presidio-analyzer:Loaded recognizer: UsSsnRecognizer\n",
      "INFO:presidio-analyzer:Loaded recognizer: NhsRecognizer\n",
      "INFO:presidio-analyzer:Loaded recognizer: EsNifRecognizer\n",
      "INFO:presidio-analyzer:Loaded recognizer: EsNieRecognizer\n",
      "INFO:presidio-analyzer:Loaded recognizer: ItDriverLicenseRecognizer\n",
      "INFO:presidio-analyzer:Loaded recognizer: ItFiscalCodeRecognizer\n",
      "INFO:presidio-analyzer:Loaded recognizer: ItVatCodeRecognizer\n",
      "INFO:presidio-analyzer:Loaded recognizer: ItIdentityCardRecognizer\n",
      "INFO:presidio-analyzer:Loaded recognizer: ItPassportRecognizer\n",
      "INFO:presidio-analyzer:Loaded recognizer: PlPeselRecognizer\n",
      "INFO:presidio-analyzer:Loaded recognizer: CryptoRecognizer\n",
      "INFO:presidio-analyzer:Loaded recognizer: DateRecognizer\n",
      "INFO:presidio-analyzer:Loaded recognizer: EmailRecognizer\n",
      "INFO:presidio-analyzer:Loaded recognizer: IbanRecognizer\n",
      "INFO:presidio-analyzer:Loaded recognizer: IpRecognizer\n",
      "INFO:presidio-analyzer:Loaded recognizer: MedicalLicenseRecognizer\n",
      "INFO:presidio-analyzer:Loaded recognizer: PhoneRecognizer\n",
      "INFO:presidio-analyzer:Loaded recognizer: UrlRecognizer\n",
      "WARNING:presidio-analyzer:Recognizer not added to registry because language is not supported by registry - CreditCardRecognizer supported languages: es, registry supported languages: en\n",
      "WARNING:presidio-analyzer:Recognizer not added to registry because language is not supported by registry - CreditCardRecognizer supported languages: it, registry supported languages: en\n",
      "WARNING:presidio-analyzer:Recognizer not added to registry because language is not supported by registry - CreditCardRecognizer supported languages: pl, registry supported languages: en\n",
      "WARNING:presidio-analyzer:Recognizer not added to registry because language is not supported by registry - EsNifRecognizer supported languages: es, registry supported languages: en\n",
      "WARNING:presidio-analyzer:Recognizer not added to registry because language is not supported by registry - EsNieRecognizer supported languages: es, registry supported languages: en\n",
      "WARNING:presidio-analyzer:Recognizer not added to registry because language is not supported by registry - ItDriverLicenseRecognizer supported languages: it, registry supported languages: en\n",
      "WARNING:presidio-analyzer:Recognizer not added to registry because language is not supported by registry - ItFiscalCodeRecognizer supported languages: it, registry supported languages: en\n",
      "WARNING:presidio-analyzer:Recognizer not added to registry because language is not supported by registry - ItVatCodeRecognizer supported languages: it, registry supported languages: en\n",
      "WARNING:presidio-analyzer:Recognizer not added to registry because language is not supported by registry - ItIdentityCardRecognizer supported languages: it, registry supported languages: en\n",
      "WARNING:presidio-analyzer:Recognizer not added to registry because language is not supported by registry - ItPassportRecognizer supported languages: it, registry supported languages: en\n",
      "WARNING:presidio-analyzer:Recognizer not added to registry because language is not supported by registry - PlPeselRecognizer supported languages: pl, registry supported languages: en\n",
      "INFO:presidio-analyzer:Loaded recognizer: TransformersRecognizer\n",
      "INFO:new_presidio:Successfully connected to Redis at 192.168.5.44:6379.\n",
      "INFO:new_presidio:Fernet encryption initialized.\n",
      "INFO:presidio-analyzer:Fetching all recognizers for language en\n"
     ]
    },
    {
     "name": "stdout",
     "output_type": "stream",
     "text": [
      "My name is Roy Martin, call me at +1-649-359-3103 or email me at jpeterson@example.org. My credit card is 538.990.8386.\n"
     ]
    },
    {
     "name": "stderr",
     "output_type": "stream",
     "text": [
      "d:\\Ivatama\\Protocols\\Safety\\env\\Lib\\site-packages\\spacy_huggingface_pipelines\\token_classification.py:129: UserWarning: Skipping annotation, {'entity_group': 'VENDOR', 'score': np.float32(0.96888685), 'word': 'gmail', 'start': 78, 'end': 83} is overlapping or can't be aligned for doc 'My name is slim shady, call me at 313-666-7559 or email me at real.slim.shady@gmail.com. My credit c...'\n",
      "  warnings.warn(\n",
      "d:\\Ivatama\\Protocols\\Safety\\env\\Lib\\site-packages\\spacy_huggingface_pipelines\\token_classification.py:129: UserWarning: Skipping annotation, {'entity_group': 'VENDOR', 'score': np.float32(0.5589592), 'word': 'com', 'start': 84, 'end': 87} is overlapping or can't be aligned for doc 'My name is slim shady, call me at 313-666-7559 or email me at real.slim.shady@gmail.com. My credit c...'\n",
      "  warnings.warn(\n"
     ]
    }
   ],
   "source": [
    "from presidio_analyzer.nlp_engine import NlpEngineProvider, TransformersNlpEngine, NlpEngine, SpacyNlpEngine, NerModelConfiguration\n",
    "import os\n",
    "from new_presidio import PresidioReversibleAnonymizer\n",
    "REDIS_IP_APP = os.getenv('REDIS_IP')\n",
    "REDIS_PASSWORD_APP = os.getenv('REDIS_PASSWORD')\n",
    "# Your Transformers configuration\n",
    "model_config = [\n",
    "    {\"lang_code\": \"en\",\n",
    "     \"model_name\": {\n",
    "         \"spacy\": \"en_core_web_sm\", # for tokenization, lemmatization\n",
    "         \"transformers\": \"StanfordAIMI/stanford-deidentifier-base\" # for NER\n",
    "    }\n",
    "}]\n",
    "\n",
    "# Entity mappings between the model's and Presidio's\n",
    "mapping = dict(\n",
    "    PER=\"PERSON\",\n",
    "    LOC=\"LOCATION\",\n",
    "    ORG=\"ORGANIZATION\",\n",
    "    AGE=\"AGE\",\n",
    "    ID=\"ID\",\n",
    "    EMAIL=\"EMAIL\",\n",
    "    DATE=\"DATE_TIME\",\n",
    "    PHONE=\"PHONE_NUMBER\",\n",
    "    PERSON=\"PERSON\",\n",
    "    LOCATION=\"LOCATION\",\n",
    "    GPE=\"LOCATION\",\n",
    "    ORGANIZATION=\"ORGANIZATION\",\n",
    "    NORP=\"NRP\",\n",
    "    PATIENT=\"PERSON\",\n",
    "    STAFF=\"PERSON\",\n",
    "    HOSP=\"LOCATION\",\n",
    "    PATORG=\"ORGANIZATION\",\n",
    "    TIME=\"DATE_TIME\",\n",
    "    HCW=\"PERSON\",\n",
    "    HOSPITAL=\"LOCATION\",\n",
    "    FACILITY=\"LOCATION\",\n",
    "    VENDOR=\"ORGANIZATION\",\n",
    ")\n",
    "\n",
    "labels_to_ignore = [\"O\"]\n",
    "\n",
    "ner_model_configuration = NerModelConfiguration(\n",
    "    model_to_presidio_entity_mapping=mapping,\n",
    "    alignment_mode=\"expand\", # \"strict\", \"contract\", \"expand\"\n",
    "    aggregation_strategy=\"max\", # \"simple\", \"first\", \"average\", \"max\"\n",
    "    labels_to_ignore = labels_to_ignore)\n",
    "\n",
    "transformers_nlp_engine = TransformersNlpEngine(\n",
    "    models=model_config,\n",
    "    ner_model_configuration=ner_model_configuration)\n",
    "\n",
    "redis_key=\"W06H6u6sViLpgQKmos4jln435LlG7PX7taIVutLywjg=\"\n",
    "# Initialize the PresidioReversibleAnonymizer with the custom transformers_nlp_engine\n",
    "anonymizer = PresidioReversibleAnonymizer(\n",
    "  analyzed_fields=[\"PERSON\",\"PHONE_NUMBER\",\"EMAIL_ADDRESS\",\"CREDIT_CARD\"],\n",
    "  nlp_engine=transformers_nlp_engine, # Pass the pre-configured TransformersNlpEngine instance\n",
    "  faker_seed=42,\n",
    "  redis_host=REDIS_IP_APP,\n",
    "  redis_password=REDIS_PASSWORD_APP,\n",
    "  encryption_key=redis_key\n",
    ")\n",
    "\n",
    "# Now, anonymize text using the Transformers engine\n",
    "anonymized_text = anonymizer.anonymize(\n",
    "  \"My name is slim shady, call me at 313-666-7559 or email me at real.slim.shady@gmail.com. \"\n",
    "  \"My credit card is 4916 0382 3232 0732.\"\n",
    ")\n",
    "print(anonymized_text)\n",
    "\n"
   ]
  },
  {
   "cell_type": "code",
   "execution_count": 8,
   "id": "e359c8c5",
   "metadata": {},
   "outputs": [
    {
     "name": "stderr",
     "output_type": "stream",
     "text": [
      "INFO:new_presidio:Encrypted anonymizer mapping saved to Redis under key: W06H6u6sViLpgQKmos4jln435LlG7PX7taIVutLywjg=\n"
     ]
    },
    {
     "data": {
      "text/plain": [
       "'W06H6u6sViLpgQKmos4jln435LlG7PX7taIVutLywjg='"
      ]
     },
     "execution_count": 8,
     "metadata": {},
     "output_type": "execute_result"
    }
   ],
   "source": [
    "import os\n",
    "anonymizer.save_deanonymizer_mapping_to_redis(redis_key)"
   ]
  },
  {
   "cell_type": "markdown",
   "id": "3a7e33f4",
   "metadata": {},
   "source": [
    "## Deanonymize"
   ]
  },
  {
   "cell_type": "code",
   "execution_count": 5,
   "id": "4bba3444",
   "metadata": {},
   "outputs": [
    {
     "name": "stderr",
     "output_type": "stream",
     "text": [
      "WARNING:presidio-analyzer:low_score_entity_names is missing from configuration, using default\n",
      "Device set to use cpu\n",
      "INFO:presidio-analyzer:registry not provided, creating default.\n",
      "INFO:presidio-analyzer:Loaded recognizer: CreditCardRecognizer\n",
      "INFO:presidio-analyzer:Loaded recognizer: CreditCardRecognizer\n",
      "INFO:presidio-analyzer:Loaded recognizer: CreditCardRecognizer\n",
      "INFO:presidio-analyzer:Loaded recognizer: CreditCardRecognizer\n",
      "INFO:presidio-analyzer:Loaded recognizer: UsBankRecognizer\n",
      "INFO:presidio-analyzer:Loaded recognizer: UsLicenseRecognizer\n",
      "INFO:presidio-analyzer:Loaded recognizer: UsItinRecognizer\n",
      "INFO:presidio-analyzer:Loaded recognizer: UsPassportRecognizer\n",
      "INFO:presidio-analyzer:Loaded recognizer: UsSsnRecognizer\n",
      "INFO:presidio-analyzer:Loaded recognizer: NhsRecognizer\n",
      "INFO:presidio-analyzer:Loaded recognizer: EsNifRecognizer\n",
      "INFO:presidio-analyzer:Loaded recognizer: EsNieRecognizer\n",
      "INFO:presidio-analyzer:Loaded recognizer: ItDriverLicenseRecognizer\n",
      "INFO:presidio-analyzer:Loaded recognizer: ItFiscalCodeRecognizer\n",
      "INFO:presidio-analyzer:Loaded recognizer: ItVatCodeRecognizer\n",
      "INFO:presidio-analyzer:Loaded recognizer: ItIdentityCardRecognizer\n",
      "INFO:presidio-analyzer:Loaded recognizer: ItPassportRecognizer\n",
      "INFO:presidio-analyzer:Loaded recognizer: PlPeselRecognizer\n",
      "INFO:presidio-analyzer:Loaded recognizer: CryptoRecognizer\n",
      "INFO:presidio-analyzer:Loaded recognizer: DateRecognizer\n",
      "INFO:presidio-analyzer:Loaded recognizer: EmailRecognizer\n",
      "INFO:presidio-analyzer:Loaded recognizer: IbanRecognizer\n",
      "INFO:presidio-analyzer:Loaded recognizer: IpRecognizer\n",
      "INFO:presidio-analyzer:Loaded recognizer: MedicalLicenseRecognizer\n",
      "INFO:presidio-analyzer:Loaded recognizer: PhoneRecognizer\n",
      "INFO:presidio-analyzer:Loaded recognizer: UrlRecognizer\n",
      "WARNING:presidio-analyzer:Recognizer not added to registry because language is not supported by registry - CreditCardRecognizer supported languages: es, registry supported languages: en\n",
      "WARNING:presidio-analyzer:Recognizer not added to registry because language is not supported by registry - CreditCardRecognizer supported languages: it, registry supported languages: en\n",
      "WARNING:presidio-analyzer:Recognizer not added to registry because language is not supported by registry - CreditCardRecognizer supported languages: pl, registry supported languages: en\n",
      "WARNING:presidio-analyzer:Recognizer not added to registry because language is not supported by registry - EsNifRecognizer supported languages: es, registry supported languages: en\n",
      "WARNING:presidio-analyzer:Recognizer not added to registry because language is not supported by registry - EsNieRecognizer supported languages: es, registry supported languages: en\n",
      "WARNING:presidio-analyzer:Recognizer not added to registry because language is not supported by registry - ItDriverLicenseRecognizer supported languages: it, registry supported languages: en\n",
      "WARNING:presidio-analyzer:Recognizer not added to registry because language is not supported by registry - ItFiscalCodeRecognizer supported languages: it, registry supported languages: en\n",
      "WARNING:presidio-analyzer:Recognizer not added to registry because language is not supported by registry - ItVatCodeRecognizer supported languages: it, registry supported languages: en\n",
      "WARNING:presidio-analyzer:Recognizer not added to registry because language is not supported by registry - ItIdentityCardRecognizer supported languages: it, registry supported languages: en\n",
      "WARNING:presidio-analyzer:Recognizer not added to registry because language is not supported by registry - ItPassportRecognizer supported languages: it, registry supported languages: en\n",
      "WARNING:presidio-analyzer:Recognizer not added to registry because language is not supported by registry - PlPeselRecognizer supported languages: pl, registry supported languages: en\n",
      "INFO:presidio-analyzer:Loaded recognizer: TransformersRecognizer\n",
      "INFO:new_presidio:Successfully connected to Redis at 192.168.5.44:6379.\n",
      "INFO:new_presidio:Fernet encryption initialized.\n"
     ]
    }
   ],
   "source": [
    "from presidio_analyzer.nlp_engine import NlpEngineProvider, TransformersNlpEngine, NlpEngine, SpacyNlpEngine, NerModelConfiguration\n",
    "import os\n",
    "from new_presidio import PresidioReversibleAnonymizer\n",
    "REDIS_IP_APP = os.getenv('REDIS_IP')\n",
    "REDIS_PASSWORD_APP = os.getenv('REDIS_PASSWORD')\n",
    "# Your Transformers configuration\n",
    "model_config = [\n",
    "    {\"lang_code\": \"en\",\n",
    "     \"model_name\": {\n",
    "         \"spacy\": \"en_core_web_sm\", # for tokenization, lemmatization\n",
    "         \"transformers\": \"StanfordAIMI/stanford-deidentifier-base\" # for NER\n",
    "    }\n",
    "}]\n",
    "\n",
    "# Entity mappings between the model's and Presidio's\n",
    "mapping = dict(\n",
    "    PER=\"PERSON\",\n",
    "    LOC=\"LOCATION\",\n",
    "    ORG=\"ORGANIZATION\",\n",
    "    AGE=\"AGE\",\n",
    "    ID=\"ID\",\n",
    "    EMAIL=\"EMAIL\",\n",
    "    DATE=\"DATE_TIME\",\n",
    "    PHONE=\"PHONE_NUMBER\",\n",
    "    PERSON=\"PERSON\",\n",
    "    LOCATION=\"LOCATION\",\n",
    "    GPE=\"LOCATION\",\n",
    "    ORGANIZATION=\"ORGANIZATION\",\n",
    "    NORP=\"NRP\",\n",
    "    PATIENT=\"PERSON\",\n",
    "    STAFF=\"PERSON\",\n",
    "    HOSP=\"LOCATION\",\n",
    "    PATORG=\"ORGANIZATION\",\n",
    "    TIME=\"DATE_TIME\",\n",
    "    HCW=\"PERSON\",\n",
    "    HOSPITAL=\"LOCATION\",\n",
    "    FACILITY=\"LOCATION\",\n",
    "    VENDOR=\"ORGANIZATION\",\n",
    ")\n",
    "\n",
    "labels_to_ignore = [\"O\"]\n",
    "\n",
    "ner_model_configuration = NerModelConfiguration(\n",
    "    model_to_presidio_entity_mapping=mapping,\n",
    "    alignment_mode=\"expand\", # \"strict\", \"contract\", \"expand\"\n",
    "    aggregation_strategy=\"max\", # \"simple\", \"first\", \"average\", \"max\"\n",
    "    labels_to_ignore = labels_to_ignore)\n",
    "\n",
    "transformers_nlp_engine = TransformersNlpEngine(\n",
    "    models=model_config,\n",
    "    ner_model_configuration=ner_model_configuration)\n",
    "\n",
    "redis_key=\"W06H6u6sViLpgQKmos4jln435LlG7PX7taIVutLywjg=\"\n",
    "# Initialize the PresidioReversibleAnonymizer with the custom transformers_nlp_engine\n",
    "anonymizer = PresidioReversibleAnonymizer(\n",
    "  analyzed_fields=[\"PERSON\",\"PHONE_NUMBER\",\"EMAIL_ADDRESS\",\"CREDIT_CARD\"],\n",
    "  nlp_engine=transformers_nlp_engine, # Pass the pre-configured TransformersNlpEngine instance\n",
    "  faker_seed=42,\n",
    "  redis_host=REDIS_IP_APP,\n",
    "  redis_password=REDIS_PASSWORD_APP,\n",
    "  encryption_key=redis_key\n",
    ")\n"
   ]
  },
  {
   "cell_type": "code",
   "execution_count": 7,
   "id": "13ac5126",
   "metadata": {},
   "outputs": [
    {
     "name": "stderr",
     "output_type": "stream",
     "text": [
      "INFO:new_presidio:Encrypted anonymizer mapping loaded and decrypted for key: W06H6u6sViLpgQKmos4jln435LlG7PX7taIVutLywjg=\n"
     ]
    },
    {
     "name": "stdout",
     "output_type": "stream",
     "text": [
      "We're sorry slim shady for the inconvenience. We will let you know soon through your email at real.slim.shady@gmail.com. \n",
      "We will call your number 313-666-7559 to proceed with the credit card number of 4916 0382 3232 0732.\n"
     ]
    }
   ],
   "source": [
    "anonymizer.load_deanonymizer_mapping_from_redis(redis_key)\n",
    "anonymized_text=\"\"\"We're sorry Roy Martin for the inconvenience. We will let you know soon through your email at jpeterson@example.org. \n",
    "We will call your number +1-649-359-3103 to proceed with the credit card number of 538.990.8386.\"\"\"\n",
    "deanonymized_text = anonymizer.deanonymize(anonymized_text)\n",
    "print(deanonymized_text)"
   ]
  }
 ],
 "metadata": {
  "kernelspec": {
   "display_name": "env",
   "language": "python",
   "name": "python3"
  },
  "language_info": {
   "codemirror_mode": {
    "name": "ipython",
    "version": 3
   },
   "file_extension": ".py",
   "mimetype": "text/x-python",
   "name": "python",
   "nbconvert_exporter": "python",
   "pygments_lexer": "ipython3",
   "version": "3.11.0"
  }
 },
 "nbformat": 4,
 "nbformat_minor": 5
}
