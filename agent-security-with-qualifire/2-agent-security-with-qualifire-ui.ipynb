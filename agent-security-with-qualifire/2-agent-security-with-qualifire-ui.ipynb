{
 "cells": [
  {
   "cell_type": "markdown",
   "metadata": {},
   "source": [
    "![](https://europe-west1-atp-views-tracker.cloudfunctions.net/working-analytics?notebook=tutorials--agent-security-with-qualifire--2-agent-security-with-qualifire-ui)\n",
    "\n",
    "# Agent Guardrails with Qualifire 🔥\n",
    "\n",
    "This notebook walks you through integrating Qualifire to add guardrails to an AI agent. We will build a simple chatbot using OpenAI's GPT-4.1 and Streamlit, and then implement protections against prompt injections, unsafe content, hallucinations, and policy breaches using both the Gateway and SDK.\n",
    "\n",
    "## Overview\n",
    "\n",
    "As AI agents become more sophisticated and widely deployed, ensuring their safe and controlled operation becomes critical. Without proper guardrails, AI agents can be vulnerable to various risks including prompt injections, unsafe content generation, hallucinations, and policy violations.\n",
    "\n",
    "## Benefits of Using Guardrails\n",
    "\n",
    "- **Enhanced Security**: Protect against prompt injection attacks and unauthorized access\n",
    "- **Content Safety**: Filter and prevent generation of harmful or inappropriate content\n",
    "- **Quality Control**: Reduce hallucinations and ensure factual responses\n",
    "- **Policy Compliance**: Enforce organizational policies and usage guidelines\n",
    "- **Real-time Protection**: Implement guardrails that work during runtime\n",
    "\n",
    "## Key Methods\n",
    "\n",
    "1. **Gateway Protection**: Implement API-level security controls\n",
    "2. **Content Filtering**: Set up content moderation and safety checks\n",
    "3. **Hallucination Prevention**: Add fact-checking and verification\n",
    "4. **Policy Enforcement**: Configure and apply usage policies\n",
    "\n",
    "ℹ️  If you're interested in seeing how the demo app is created visit the [streamlit tutorial](../agent-with-streamlit-ui/building-chatbot-notebook.ipynb) before proceeding with this tutorial."
   ]
  },
  {
   "cell_type": "markdown",
   "metadata": {},
   "source": [
    "<img src=\"./assets/freddie-shield.png\" width=\"200px\" alt=\"Qualifire Shield Logo\">\n"
   ]
  },
  {
   "cell_type": "markdown",
   "metadata": {},
   "source": [
    "## 1. Setup and Requirements\n"
   ]
  },
  {
   "cell_type": "code",
   "execution_count": null,
   "metadata": {},
   "outputs": [],
   "source": [
    "!pip install -q -r requirements.txt"
   ]
  },
  {
   "cell_type": "markdown",
   "metadata": {},
   "source": [
    "### 1.2. Sign up for Qualifire and Get API Key\n",
    "\n",
    "ℹ️ If you've already created an API key, you can skip this step.\n",
    "\n",
    "Before proceeding, make sure you have a Qualifire account and an API key.\n",
    "\n",
    "1. Sign up at [https://app.qualifire.ai](https://app.qualifire.ai?utm=agents-towards-production).\n",
    "2. complete the onboarding and create your API key."
   ]
  },
  {
   "cell_type": "markdown",
   "metadata": {},
   "source": [
    "<img src=\"./assets/protection-rules-evaluation.png\" alt=\"Protection Rules Evaluation\">\n",
    "<img src=\"./assets/protection-rules-actions.png\" alt=\"Protection Rules Actions\">\n"
   ]
  },
  {
   "cell_type": "markdown",
   "metadata": {},
   "source": [
    "3. once you see the \"waiting for logs\" screen you can proceed with the tutorial."
   ]
  },
  {
   "cell_type": "markdown",
   "metadata": {},
   "source": [
    "<img src=\"./assets/wait-for-logs.png\" alt=\"Waiting for logs\">\n"
   ]
  },
  {
   "cell_type": "markdown",
   "metadata": {},
   "source": [
    "## 2. patching the streamlit app"
   ]
  },
  {
   "cell_type": "markdown",
   "metadata": {},
   "source": [
    "## Setup: OpenAI API Key\n",
    "\n",
    "To use OpenAI's API, you need to provide your API key so that the library can authenticate. There are a couple of ways to do this:\n",
    "\n",
    "1. **Option 1 (Recommended)**: Set the API key as an environment variable on your system (e.g., `OPENAI_API_KEY`). This keeps the key out of your code.\n",
    "   - On Linux/Mac: `export OPENAI_API_KEY='your_key_here'` in your terminal\n",
    "   - On Windows: `set OPENAI_API_KEY=\"your_key_here\"` in the Command Prompt\n",
    "\n",
    "2. **Option 2**: Directly assign the API key in your code (quick for testing, but be careful not to expose your key if you share your code)\n",
    "\n",
    "In this tutorial, we'll assume you saved your key as an environment variable for safety. It's a best practice to avoid hard-coding secrets.\n",
    "\n",
    "ℹ️ You can use any LLM you'd like. For this tutorial, we'll use OpenAI's GPT-4.1. If you want to read the specific configurations for each LLM, check out the [documentation](https://docs.qualifire.ai?utm=agents-towards-production)."
   ]
  },
  {
   "cell_type": "markdown",
   "metadata": {},
   "source": [
    "### 2.1 hooking Qualifire as a gateway"
   ]
  },
  {
   "cell_type": "code",
   "execution_count": 2,
   "metadata": {},
   "outputs": [
    {
     "data": {
      "text/plain": [
       "Ellipsis"
      ]
     },
     "execution_count": 2,
     "metadata": {},
     "output_type": "execute_result"
    }
   ],
   "source": [
    "# app.py (full code combining all steps)\n",
    "\n",
    "\n",
    "########################################################\n",
    "# Optionally you can add tracing to gain observability into the agent\n",
    "########################################################\n",
    "\n",
    "import os\n",
    "import qualifire\n",
    "from dotenv import load_dotenv\n",
    "\n",
    "load_dotenv()  # Load environment variables from .env\n",
    "\n",
    "OPENAI_API_KEY = os.getenv(\"OPENAI_API_KEY\")\n",
    "QUALIFIRE_API_KEY = os.getenv(\"QUALIFIRE_API_KEY\")\n",
    "qualifire.init(\n",
    "    api_key=QUALIFIRE_API_KEY,\n",
    ")\n",
    "\n",
    "\n",
    "########################################################\n",
    "# Rest of the code\n",
    "########################################################\n",
    "\n",
    "\n",
    "import openai\n",
    "import streamlit as st\n",
    "import io\n",
    "\n",
    "import openai\n",
    "import os\n",
    "import PyPDF2\n",
    "\n",
    "\n",
    "\n",
    "if not OPENAI_API_KEY or not QUALIFIRE_API_KEY:\n",
    "    raise ValueError(\"OPENAI_API_KEY and QUALIFIRE_API_KEY must be set\")\n",
    "\n",
    "\n",
    "########################################################\n",
    "# patching the streamlit app\n",
    "########################################################\n",
    "\n",
    "\n",
    "client = openai.OpenAI(\n",
    "    api_key=OPENAI_API_KEY,\n",
    "    base_url=\"https://proxy.qualifire.ai/api/providers/openai\",\n",
    "    default_headers={\n",
    "        \"X-Qualifire-Api-Key\": QUALIFIRE_API_KEY,\n",
    "    },\n",
    ")\n",
    "\n",
    "\n",
    "\n",
    "########################################################\n",
    "# REST OF THE app.py CODE\n",
    "########################################################\n",
    "\n",
    "..."
   ]
  },
  {
   "cell_type": "markdown",
   "metadata": {},
   "source": [
    "# 3. Creating a new protection rule\n",
    "\n",
    "In Qualifire a protection rule is way to define a policy that will be applied to LLM calls, Applying guardrails and allowing you to set up an escape hatch for LLMs that are not behaving as expected.\n",
    "\n",
    "1. go to the protection rules [tab](https://app.qualifire.ai/rules?utm=agents-towards-production)\n",
    "2. name your rule and click next\n",
    "3. select you evaluation and choose if it should run on the input or output (for now just the input)\n",
    "4. Choose what action to take when the evaluation fails. In this example add a default response of \"I can't do that\"\n",
    "5. click on create"
   ]
  },
  {
   "cell_type": "markdown",
   "metadata": {},
   "source": [
    "#### now that you have a working agent you can interact with, let's try to bypass the guardrails\n",
    "\n",
    "1. you can use [this](https://github.com/drorIvry/L1B3RT45/blob/main/OPENAI.mkd) for an initial set of jailbreaks and prompt injections. \n",
    "⚠️ this is a reference, use at your own risk\n",
    "\n",
    "Try toggling the Qualifire jailbreak protection rule  on and off to see how it affects the LLM response."
   ]
  },
  {
   "cell_type": "code",
   "execution_count": null,
   "metadata": {},
   "outputs": [],
   "source": [
    "!streamlit run app.py"
   ]
  },
  {
   "cell_type": "markdown",
   "metadata": {},
   "source": [
    "# <img src=\"./assets/prompt-injections-demo.gif\">\n"
   ]
  },
  {
   "cell_type": "markdown",
   "metadata": {},
   "source": [
    "# 3. Conclusion\n",
    "\n",
    "Thank you for completing this tutorial! We hope it has been helpful in understanding how to use Qualifire to enhance the observability of your agents.\n",
    "\n",
    "In this tutorial, we learned how to:\n",
    "\n",
    "- Initialize Qualifire in your Python application with a single line of code.\n",
    "- Run an agent, with Qualifire automatically capturing observability data via OpenTelemetry in the background.\n",
    "- Setting up Qualifire Guardrails to protect LLM calls.\n",
    "\n",
    "Using Qualifire provides deep unparalleled control, visibility and protection over your AI.\n",
    "\n",
    "\n",
    "### Thank you for completing the tutorial! 🙏\n",
    "we'd like to offer you 1 free month of the Pro plan to help you get started with Qualifire. use code `NIR1MONTH` at checkout\n",
    "\n",
    "For more details visit [https://qualifire.ai](https://qualifire.ai?utm=agents-towards-production).\n"
   ]
  }
 ],
 "metadata": {
  "kernelspec": {
   "display_name": "env",
   "language": "python",
   "name": "python3"
  },
  "language_info": {
   "codemirror_mode": {
    "name": "ipython",
    "version": 3
   },
   "file_extension": ".py",
   "mimetype": "text/x-python",
   "name": "python",
   "nbconvert_exporter": "python",
   "pygments_lexer": "ipython3",
   "version": "3.11.0"
  }
 },
 "nbformat": 4,
 "nbformat_minor": 2
}
